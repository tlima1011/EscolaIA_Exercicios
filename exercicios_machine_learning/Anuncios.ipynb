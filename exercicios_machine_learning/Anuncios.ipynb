{
 "cells": [
  {
   "cell_type": "markdown",
   "metadata": {},
   "source": [
    "1 - Dados de Anúncios de TV x Vendas"
   ]
  },
  {
   "cell_type": "code",
   "execution_count": 38,
   "metadata": {},
   "outputs": [],
   "source": [
    "import pandas as pd \n",
    "import matplotlib.pyplot as plt\n",
    "import numpy as np"
   ]
  },
  {
   "cell_type": "code",
   "execution_count": 39,
   "metadata": {},
   "outputs": [],
   "source": [
    "df = pd.read_excel('ads.xlsx')"
   ]
  },
  {
   "cell_type": "markdown",
   "metadata": {},
   "source": [
    "Verificação de Dados entre as tabelas "
   ]
  },
  {
   "cell_type": "code",
   "execution_count": 4,
   "metadata": {},
   "outputs": [
    {
     "name": "stdout",
     "output_type": "stream",
     "text": [
      "       TV  Sales\n",
      "0    2301    221\n",
      "1     445    104\n",
      "2     172     12\n",
      "3    1515    165\n",
      "4    1808    179\n",
      "5      87     72\n",
      "6     575    118\n",
      "7    1202    132\n",
      "8      86     48\n",
      "9    1998    156\n",
      "10    661    126\n",
      "11   2147    174\n",
      "12    238     92\n",
      "13    975    137\n",
      "14   2041     19\n",
      "15   1954    224\n",
      "16    678    125\n",
      "17   2814    244\n",
      "18    692    113\n",
      "19   1473    146\n",
      "20   2184     18\n",
      "21   2374    175\n",
      "22    132     56\n",
      "23   2283    205\n",
      "24    623     97\n",
      "25   2629     17\n",
      "26   1429     15\n",
      "27   2401    209\n",
      "28   2488    189\n",
      "29    706    105\n",
      "..    ...    ...\n",
      "170    50     84\n",
      "171  1645    175\n",
      "172   196     76\n",
      "173  1684    167\n",
      "174  2224    165\n",
      "175  2769     27\n",
      "176  2484    202\n",
      "177  1702    167\n",
      "178  2767    168\n",
      "179  1656    176\n",
      "180  1566    155\n",
      "181  2185    172\n",
      "182   562     87\n",
      "183  2876    262\n",
      "184  2538    176\n",
      "185   205    226\n",
      "186  1395    103\n",
      "187  1911    173\n",
      "188   286    209\n",
      "189   187     67\n",
      "190   395    108\n",
      "191   755    119\n",
      "192   172     59\n",
      "193  1668    196\n",
      "194  1497    173\n",
      "195   382     76\n",
      "196   942     14\n",
      "197   177    148\n",
      "198  2836    255\n",
      "199  2321    184\n",
      "\n",
      "[200 rows x 2 columns]\n"
     ]
    }
   ],
   "source": [
    "print(df)"
   ]
  },
  {
   "cell_type": "markdown",
   "metadata": {},
   "source": [
    "Verificação dos dados com relação as vendas"
   ]
  },
  {
   "cell_type": "code",
   "execution_count": 40,
   "metadata": {},
   "outputs": [
    {
     "name": "stdout",
     "output_type": "stream",
     "text": [
      "<class 'pandas.core.frame.DataFrame'>\n",
      "RangeIndex: 200 entries, 0 to 199\n",
      "Data columns (total 2 columns):\n",
      "TV       200 non-null int64\n",
      "Sales    200 non-null int64\n",
      "dtypes: int64(2)\n",
      "memory usage: 3.2 KB\n"
     ]
    }
   ],
   "source": [
    "df.info()"
   ]
  },
  {
   "cell_type": "code",
   "execution_count": 65,
   "metadata": {},
   "outputs": [
    {
     "data": {
      "text/plain": [
       "TV       int64\n",
       "Sales    int64\n",
       "dtype: object"
      ]
     },
     "execution_count": 65,
     "metadata": {},
     "output_type": "execute_result"
    }
   ],
   "source": [
    "df.dtypes"
   ]
  },
  {
   "cell_type": "markdown",
   "metadata": {},
   "source": [
    "Foi necessário converter preços que o Jupyter assumiu no formato Inteiro e para float com casas decimais"
   ]
  },
  {
   "cell_type": "code",
   "execution_count": 66,
   "metadata": {},
   "outputs": [],
   "source": [
    "df['TV'] = df['TV'].values.astype(np.float)"
   ]
  },
  {
   "cell_type": "code",
   "execution_count": 67,
   "metadata": {},
   "outputs": [],
   "source": [
    "df['Sales'] = df['Sales'].values.astype(np.float)"
   ]
  },
  {
   "cell_type": "code",
   "execution_count": 69,
   "metadata": {},
   "outputs": [
    {
     "data": {
      "text/html": [
       "<div>\n",
       "<style scoped>\n",
       "    .dataframe tbody tr th:only-of-type {\n",
       "        vertical-align: middle;\n",
       "    }\n",
       "\n",
       "    .dataframe tbody tr th {\n",
       "        vertical-align: top;\n",
       "    }\n",
       "\n",
       "    .dataframe thead th {\n",
       "        text-align: right;\n",
       "    }\n",
       "</style>\n",
       "<table border=\"1\" class=\"dataframe\">\n",
       "  <thead>\n",
       "    <tr style=\"text-align: right;\">\n",
       "      <th></th>\n",
       "      <th>TV</th>\n",
       "      <th>Sales</th>\n",
       "    </tr>\n",
       "  </thead>\n",
       "  <tbody>\n",
       "    <tr>\n",
       "      <th>0</th>\n",
       "      <td>2301.0</td>\n",
       "      <td>221.0</td>\n",
       "    </tr>\n",
       "    <tr>\n",
       "      <th>1</th>\n",
       "      <td>445.0</td>\n",
       "      <td>104.0</td>\n",
       "    </tr>\n",
       "    <tr>\n",
       "      <th>2</th>\n",
       "      <td>172.0</td>\n",
       "      <td>12.0</td>\n",
       "    </tr>\n",
       "    <tr>\n",
       "      <th>3</th>\n",
       "      <td>1515.0</td>\n",
       "      <td>165.0</td>\n",
       "    </tr>\n",
       "    <tr>\n",
       "      <th>4</th>\n",
       "      <td>1808.0</td>\n",
       "      <td>179.0</td>\n",
       "    </tr>\n",
       "  </tbody>\n",
       "</table>\n",
       "</div>"
      ],
      "text/plain": [
       "       TV  Sales\n",
       "0  2301.0  221.0\n",
       "1   445.0  104.0\n",
       "2   172.0   12.0\n",
       "3  1515.0  165.0\n",
       "4  1808.0  179.0"
      ]
     },
     "execution_count": 69,
     "metadata": {},
     "output_type": "execute_result"
    }
   ],
   "source": [
    "df.head(5)"
   ]
  },
  {
   "cell_type": "code",
   "execution_count": 70,
   "metadata": {},
   "outputs": [
    {
     "data": {
      "text/html": [
       "<div>\n",
       "<style scoped>\n",
       "    .dataframe tbody tr th:only-of-type {\n",
       "        vertical-align: middle;\n",
       "    }\n",
       "\n",
       "    .dataframe tbody tr th {\n",
       "        vertical-align: top;\n",
       "    }\n",
       "\n",
       "    .dataframe thead th {\n",
       "        text-align: right;\n",
       "    }\n",
       "</style>\n",
       "<table border=\"1\" class=\"dataframe\">\n",
       "  <thead>\n",
       "    <tr style=\"text-align: right;\">\n",
       "      <th></th>\n",
       "      <th>TV</th>\n",
       "      <th>Sales</th>\n",
       "    </tr>\n",
       "  </thead>\n",
       "  <tbody>\n",
       "    <tr>\n",
       "      <th>count</th>\n",
       "      <td>200.000000</td>\n",
       "      <td>200.00000</td>\n",
       "    </tr>\n",
       "    <tr>\n",
       "      <th>mean</th>\n",
       "      <td>1391.270000</td>\n",
       "      <td>136.00500</td>\n",
       "    </tr>\n",
       "    <tr>\n",
       "      <th>std</th>\n",
       "      <td>895.330745</td>\n",
       "      <td>67.14557</td>\n",
       "    </tr>\n",
       "    <tr>\n",
       "      <th>min</th>\n",
       "      <td>7.000000</td>\n",
       "      <td>7.00000</td>\n",
       "    </tr>\n",
       "    <tr>\n",
       "      <th>25%</th>\n",
       "      <td>616.250000</td>\n",
       "      <td>94.75000</td>\n",
       "    </tr>\n",
       "    <tr>\n",
       "      <th>50%</th>\n",
       "      <td>1394.000000</td>\n",
       "      <td>146.00000</td>\n",
       "    </tr>\n",
       "    <tr>\n",
       "      <th>75%</th>\n",
       "      <td>2170.250000</td>\n",
       "      <td>185.25000</td>\n",
       "    </tr>\n",
       "    <tr>\n",
       "      <th>max</th>\n",
       "      <td>2964.000000</td>\n",
       "      <td>262.00000</td>\n",
       "    </tr>\n",
       "  </tbody>\n",
       "</table>\n",
       "</div>"
      ],
      "text/plain": [
       "                TV      Sales\n",
       "count   200.000000  200.00000\n",
       "mean   1391.270000  136.00500\n",
       "std     895.330745   67.14557\n",
       "min       7.000000    7.00000\n",
       "25%     616.250000   94.75000\n",
       "50%    1394.000000  146.00000\n",
       "75%    2170.250000  185.25000\n",
       "max    2964.000000  262.00000"
      ]
     },
     "execution_count": 70,
     "metadata": {},
     "output_type": "execute_result"
    }
   ],
   "source": [
    "df.describe()"
   ]
  },
  {
   "cell_type": "code",
   "execution_count": 71,
   "metadata": {},
   "outputs": [
    {
     "data": {
      "text/plain": [
       "TV       801617.142814\n",
       "Sales      4508.527613\n",
       "dtype: float64"
      ]
     },
     "execution_count": 71,
     "metadata": {},
     "output_type": "execute_result"
    }
   ],
   "source": [
    "df.var()"
   ]
  },
  {
   "cell_type": "markdown",
   "metadata": {},
   "source": [
    "Algoritmo de Tipo de Correção, sendo nulo, positivo ou negativo e sua força"
   ]
  },
  {
   "cell_type": "code",
   "execution_count": 72,
   "metadata": {},
   "outputs": [],
   "source": [
    "def tipoDeCorrelacao(correlacao):\n",
    "    if correlacao == 0: \n",
    "        print('Nao existe Correlacao')\n",
    "    elif correlacao < 0: \n",
    "        print('Correlacao Linear Negativa Perfeita')\n",
    "    else: \n",
    "        print('Correlacao Linear Positiva Perfeita')\n",
    "    if correlacao < 0: \n",
    "        correlacao = - 1 * correlacao\n",
    "    if 0.0 >= correlacao <= 0.19: \n",
    "        return 'Uma correlação bem fraca'\n",
    "    elif correlacao <= 0.39:\n",
    "        return 'Uma correlação fraca'\n",
    "    elif correlacao <= 0.69:\n",
    "        return 'Uma correlação moderada'\n",
    "    elif correlacao <= 0.89: \n",
    "        return 'Uma correlação forte'\n",
    "    else:\n",
    "        return 'Uma correlação muito forte'"
   ]
  },
  {
   "cell_type": "code",
   "execution_count": 73,
   "metadata": {},
   "outputs": [
    {
     "data": {
      "text/plain": [
       "0.6221617118772038"
      ]
     },
     "execution_count": 73,
     "metadata": {},
     "output_type": "execute_result"
    }
   ],
   "source": [
    "correlacao = df['TV'].corr(df['Sales']) \n",
    "correlacao"
   ]
  },
  {
   "cell_type": "markdown",
   "metadata": {},
   "source": [
    "Calculo de correção de TV e Vendas"
   ]
  },
  {
   "cell_type": "code",
   "execution_count": 74,
   "metadata": {},
   "outputs": [
    {
     "name": "stdout",
     "output_type": "stream",
     "text": [
      "0.622161712\n"
     ]
    }
   ],
   "source": [
    "print(f'{correlacao:.9f}')"
   ]
  },
  {
   "cell_type": "markdown",
   "metadata": {},
   "source": [
    "Cálculo de correlaçao em 0.622161 e utilizando o algoritmo para informar os tipos dele e a força"
   ]
  },
  {
   "cell_type": "code",
   "execution_count": 75,
   "metadata": {},
   "outputs": [
    {
     "name": "stdout",
     "output_type": "stream",
     "text": [
      "Correlacao Linear Positiva Perfeita\n",
      "Uma correlação moderada\n"
     ]
    }
   ],
   "source": [
    "print(tipoDeCorrelacao(correlacao))"
   ]
  },
  {
   "cell_type": "code",
   "execution_count": 76,
   "metadata": {},
   "outputs": [],
   "source": [
    "import scipy"
   ]
  },
  {
   "cell_type": "code",
   "execution_count": 77,
   "metadata": {},
   "outputs": [],
   "source": [
    "import seaborn as sns"
   ]
  },
  {
   "cell_type": "code",
   "execution_count": 78,
   "metadata": {},
   "outputs": [
    {
     "data": {
      "text/plain": [
       "(200, 2)"
      ]
     },
     "execution_count": 78,
     "metadata": {},
     "output_type": "execute_result"
    }
   ],
   "source": [
    "df.shape"
   ]
  },
  {
   "cell_type": "markdown",
   "metadata": {},
   "source": [
    "Regressão Linear"
   ]
  },
  {
   "cell_type": "code",
   "execution_count": 79,
   "metadata": {},
   "outputs": [
    {
     "data": {
      "text/plain": [
       "<seaborn.axisgrid.FacetGrid at 0x23e759d1860>"
      ]
     },
     "execution_count": 79,
     "metadata": {},
     "output_type": "execute_result"
    },
    {
     "data": {
      "image/png": "[encoded data removed]",
      "text/plain": [
       "<Figure size 864x432 with 1 Axes>"
      ]
     },
     "metadata": {
      "needs_background": "light"
     },
     "output_type": "display_data"
    }
   ],
   "source": [
    "ax = sns.lmplot(x = 'TV', y = 'Sales', data = df)\n",
    "ax.fig.set_size_inches(12,6)\n",
    "ax.fig.suptitle('TV x Sales', fontsize = 16, y = 1.02)\n",
    "ax.set_xlabels('Anuncio de TV', fontsize = 14)\n",
    "ax.set_ylabels('Sales', fontsize = 14)\n"
   ]
  },
  {
   "cell_type": "code",
   "execution_count": 80,
   "metadata": {},
   "outputs": [],
   "source": [
    "import sklearn\n",
    "from sklearn import linear_model\n",
    "model = sklearn.linear_model.LinearRegression()"
   ]
  },
  {
   "cell_type": "code",
   "execution_count": 81,
   "metadata": {},
   "outputs": [],
   "source": [
    "X = np.c_[df['TV']]\n",
    "y = np.c_[df['Sales']]"
   ]
  },
  {
   "cell_type": "code",
   "execution_count": 82,
   "metadata": {},
   "outputs": [
    {
     "data": {
      "text/plain": [
       "LinearRegression(copy_X=True, fit_intercept=True, n_jobs=None, normalize=False)"
      ]
     },
     "execution_count": 82,
     "metadata": {},
     "output_type": "execute_result"
    }
   ],
   "source": [
    "model.fit(X,y)"
   ]
  },
  {
   "cell_type": "markdown",
   "metadata": {},
   "source": [
    "Usando um modelo de predição automático para prever o valor investido e retorno em vendas"
   ]
  },
  {
   "cell_type": "code",
   "execution_count": 96,
   "metadata": {},
   "outputs": [
    {
     "name": "stdout",
     "output_type": "stream",
     "text": [
      "Informe o valor a investir US$2000\n",
      "[[164.40784576]]\n"
     ]
    }
   ],
   "source": [
    "valor = float(input(\"Informe o valor a investir US$\"))\n",
    "X_new = [[valor]]\n",
    "print(model.predict(X_new))"
   ]
  },
  {
   "cell_type": "markdown",
   "metadata": {},
   "source": [
    "Valor manual para cálculo preditivo"
   ]
  },
  {
   "cell_type": "code",
   "execution_count": 97,
   "metadata": {},
   "outputs": [],
   "source": [
    "from statistics import stdev, mean\n",
    "def modeloVendas(vp): \n",
    "    inclinacao = correlacao * (stdev(df['Sales']) / stdev(df['TV']))\n",
    "    interceptacao = mean(df['Sales']) - (inclinacao * mean(df['TV']))\n",
    "    #print(inclinacao)\n",
    "    #print(interceptacao)\n",
    "    return interceptacao + (inclinacao * vp)"
   ]
  },
  {
   "cell_type": "markdown",
   "metadata": {},
   "source": [
    "Informando o valor manualmente também"
   ]
  },
  {
   "cell_type": "code",
   "execution_count": 98,
   "metadata": {},
   "outputs": [
    {
     "name": "stdout",
     "output_type": "stream",
     "text": [
      "Informe o valor a prever para retornar em vendas em US$2000\n",
      "O valor de retorno em vendas investido será de US$164.41\n"
     ]
    }
   ],
   "source": [
    "prever = float(input('Informe o valor a prever para retornar em vendas em US$'))\n",
    "print(f'O valor de retorno em vendas investido será de US${modeloVendas(prever):.2f}')"
   ]
  }
 ],
 "metadata": {
  "kernelspec": {
   "display_name": "Python 3",
   "language": "python",
   "name": "python3"
  },
  "language_info": {
   "codemirror_mode": {
    "name": "ipython",
    "version": 3
   },
   "file_extension": ".py",
   "mimetype": "text/x-python",
   "name": "python",
   "nbconvert_exporter": "python",
   "pygments_lexer": "ipython3",
   "version": "3.7.3"
  }
 },
 "nbformat": 4,
 "nbformat_minor": 2
}
